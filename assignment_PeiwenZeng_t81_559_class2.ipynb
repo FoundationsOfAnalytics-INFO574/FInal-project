{
  "cells": [
    {
      "cell_type": "markdown",
      "metadata": {
        "id": "view-in-github",
        "colab_type": "text"
      },
      "source": [
        "<a href=\"https://colab.research.google.com/github/FoundationsOfAnalytics-INFO574/FInal-project/blob/main/assignment_PeiwenZeng_t81_559_class2.ipynb\" target=\"_parent\"><img src=\"https://colab.research.google.com/assets/colab-badge.svg\" alt=\"Open In Colab\"/></a>"
      ]
    },
    {
      "cell_type": "markdown",
      "metadata": {
        "id": "NAmA6TjeUzJD"
      },
      "source": [
        "<a href=\"https://colab.research.google.com/github/jeffheaton/app_generative_ai/blob/main/assignments/assignment_yourname_t81_559_class2.ipynb\" target=\"_parent\"><img src=\"https://colab.research.google.com/assets/colab-badge.svg\" alt=\"Open In Colab\"/></a>"
      ]
    },
    {
      "cell_type": "markdown",
      "metadata": {
        "id": "rMtCUtXxZ3ts"
      },
      "source": [
        "# T81-559: Applications of Generative AI\n",
        "* Instructor: [Jeff Heaton](https://sites.wustl.edu/jeffheaton/), McKelvey School of Engineering, [Washington University in St. Louis](https://engineering.wustl.edu/index.html)\n",
        "* For more information visit the [class website](https://sites.wustl.edu/jeffheaton/).\n",
        "\n",
        "**Module 2 Assignment: Code Generation**\n",
        "\n",
        "**Student Name: Peiwen Zeng**"
      ]
    },
    {
      "cell_type": "markdown",
      "metadata": {
        "id": "s_t8eej3Z3tu"
      },
      "source": [
        "# Assignment Instructions\n",
        "\n",
        "Develop a prompt that will generate an image similar to this one. Your image does not need to look exactly like this one, but important detals, such as the colors, counts, and positions of items are required.  Make sure to also include the prompt as a Python comment string, such as:\n",
        "\n",
        "\"\"\"Prompt: Please write python code to do this.....\"\"\"\n",
        "\n",
        "![Assignment 2](https://s3.amazonaws.com/data.heatonresearch.com/images/wustl/app_genai/assignments/t81_559_assignment_2.jpg)\n",
        "\n",
        "The submit function accepts a PIL image, so it is suggested you use the PIL image library. The idea here is not for you to learn to write Python image rendering, but to have a prompt do the work for you."
      ]
    },
    {
      "cell_type": "markdown",
      "metadata": {
        "id": "vT-h8-JIbVg0"
      },
      "source": [
        "# Google CoLab Instructions\n",
        "\n",
        "If you are using Google CoLab, it will be necessary to mount your GDrive so that you can send your notebook during the submit process.  Running the following code will map your GDrive to ```/content/drive```."
      ]
    },
    {
      "cell_type": "code",
      "execution_count": null,
      "metadata": {
        "colab": {
          "base_uri": "https://localhost:8080/"
        },
        "id": "VDWQvbmRaLLD",
        "outputId": "e870ccc3-ec3f-4fc3-f651-5ff0035a6c2d"
      },
      "outputs": [
        {
          "output_type": "stream",
          "name": "stdout",
          "text": [
            "Mounted at /content/drive\n",
            "Note: using Google CoLab\n"
          ]
        }
      ],
      "source": [
        "try:\n",
        "  from google.colab import drive, userdata\n",
        "  drive.mount('/content/drive', force_remount=True)\n",
        "  COLAB = True\n",
        "  print(\"Note: using Google CoLab\")\n",
        "except:\n",
        "  print(\"Note: not using Google CoLab\")\n",
        "  COLAB = False\n",
        "\n",
        "# Assignment Submission Key - Was sent you first week of class.\n",
        "# If you are in both classes, this is the same key.\n",
        "if COLAB:\n",
        "  # For Colab, add to your \"Secrets\" (key icon at the left)\n",
        "  key = userdata.get('Washu')\n",
        "else:\n",
        "  # If not colab, enter your key here, or use an environment variable.\n",
        "  # (this is only an example key, use yours)\n",
        "  key = \"AorYdnj6PUsASbTKxd7y4vJivIGaKa964HGHLyh9\""
      ]
    },
    {
      "cell_type": "markdown",
      "metadata": {
        "id": "RoVl2DQdUzJF"
      },
      "source": [
        "If you are running this notebook with CoLab, the following command will show you your notebooks. You will need to know the location of your notebook when you submit your assignment."
      ]
    },
    {
      "cell_type": "code",
      "execution_count": null,
      "metadata": {
        "colab": {
          "base_uri": "https://localhost:8080/"
        },
        "id": "fgb13NXeaif2",
        "outputId": "559b9842-c76f-4511-cbb2-e9911f566629"
      },
      "outputs": [
        {
          "output_type": "stream",
          "name": "stdout",
          "text": [
            "ls: cannot access '/content/drive/My Drive/Colab Notebooks': No such file or directory\n"
          ]
        }
      ],
      "source": [
        "!ls /content/drive/My\\ Drive/Colab\\ Notebooks"
      ]
    },
    {
      "cell_type": "markdown",
      "metadata": {
        "id": "6vA8pJdpZ3tu"
      },
      "source": [
        "# Assignment Submit Function\n",
        "\n",
        "You will submit the ten programming assignments electronically.  The following **submit** function can be used to do this.  My server will perform a basic check of each assignment and let you know if it sees any underlying problems.\n",
        "\n",
        "**It is unlikely that should need to modify this function.**"
      ]
    },
    {
      "cell_type": "code",
      "execution_count": null,
      "metadata": {
        "id": "IhpWWqjYZ3tv"
      },
      "outputs": [],
      "source": [
        "import base64\n",
        "import os\n",
        "import numpy as np\n",
        "import pandas as pd\n",
        "import requests\n",
        "import PIL\n",
        "import PIL.Image\n",
        "import io\n",
        "from typing import List, Union\n",
        "\n",
        "# This function submits an assignment.  You can submit an assignment as much as you like, only the final\n",
        "# submission counts.  The paramaters are as follows:\n",
        "# data - List of pandas dataframes or images.\n",
        "# key - Your student key that was emailed to you.\n",
        "# course - The course that you are in, currently t81-558 or t81-559.\n",
        "# no - The assignment class number, should be 1 through 10.\n",
        "# source_file - The full path to your Python or IPYNB file.  This must have \"_class1\" as part of its name.\n",
        "# .             The number must match your assignment number.  For example \"_class2\" for class assignment #2.\n",
        "\n",
        "def submit(\n",
        "    data: List[Union[pd.DataFrame, PIL.Image.Image]],\n",
        "    key: str,\n",
        "    course: str,\n",
        "    no: int,\n",
        "    source_file: str = None\n",
        ") -> None:\n",
        "    if source_file is None and '__file__' not in globals():\n",
        "        raise Exception(\"Must specify a filename when in a Jupyter notebook.\")\n",
        "    if source_file is None:\n",
        "        source_file = __file__\n",
        "\n",
        "    suffix = f'_class{no}'\n",
        "    if suffix not in source_file:\n",
        "        raise Exception(f\"{suffix} must be part of the filename.\")\n",
        "\n",
        "    ext = os.path.splitext(source_file)[-1].lower()\n",
        "    if ext not in ['.ipynb', '.py']:\n",
        "        raise Exception(f\"Source file is {ext}; must be .py or .ipynb\")\n",
        "\n",
        "    with open(source_file, \"rb\") as file:\n",
        "        encoded_python = base64.b64encode(file.read()).decode('ascii')\n",
        "\n",
        "    payload = []\n",
        "    for item in data:\n",
        "        if isinstance(item, PIL.Image.Image):\n",
        "            buffered = io.BytesIO()\n",
        "            item.save(buffered, format=\"PNG\")\n",
        "            payload.append({'PNG': base64.b64encode(buffered.getvalue()).decode('ascii')})\n",
        "        elif isinstance(item, pd.DataFrame):\n",
        "            payload.append({'CSV': base64.b64encode(item.to_csv(index=False).encode('ascii')).decode(\"ascii\")})\n",
        "        else:\n",
        "            raise ValueError(f\"Unsupported data type: {type(item)}\")\n",
        "\n",
        "    response = requests.post(\n",
        "        \"https://api.heatonresearch.com/wu/submit\",\n",
        "        headers={'x-api-key': key},\n",
        "        json={\n",
        "            'payload': payload,\n",
        "            'assignment': no,\n",
        "            'course': course,\n",
        "            'ext': ext,\n",
        "            'py': encoded_python\n",
        "        }\n",
        "    )\n",
        "\n",
        "    if response.status_code == 200:\n",
        "        print(f\"Success: {response.text}\")\n",
        "    else:\n",
        "        print(f\"Failure: {response.text}\")"
      ]
    },
    {
      "cell_type": "markdown",
      "metadata": {
        "id": "ejz_C1ne0jt1"
      },
      "source": [
        "# Assignment #2 Sample Code\n",
        "\n",
        "For assignment #2 I will give you starting code that renders the wrong sort of image, however, it goes through all the necessary steps. The first step is to develop a prompt, such as:\n",
        "\n",
        "```\n",
        "Use Python code to make an image with a size of 640 * 451. There are 50 lines in three colors: red, blue, and brown, and analyze their arrangement rules. There is a blank circle in the center of this image, which is covered only by brown lines, and three are needed. Please use Python code to generate an image with the same shape as the image sample I provided.\n",
        "```\n",
        "\n",
        "Then use chatgpt-4o-mini to create the code."
      ]
    },
    {
      "cell_type": "code",
      "execution_count": null,
      "metadata": {
        "id": "qJx4Ficr0jt1",
        "colab": {
          "base_uri": "https://localhost:8080/",
          "height": 384
        },
        "outputId": "894e1a0d-0f0a-421e-a8d1-4846ba58f7e4"
      },
      "outputs": [
        {
          "output_type": "display_data",
          "data": {
            "text/plain": [
              "<Figure size 640x451 with 1 Axes>"
            ],
            "image/png": "[encoded data removed]"
          },
          "metadata": {}
        }
      ],
      "source": [
        "'''Prompt: Use Python code to make an image with a size of 640 * 451. There are 50 lines in three colors: red, blue, and brown, and analyze their arrangement rules. There is a blank circle in the center of this image, which is covered only by brown lines, and three are needed. Please use Python code to generate an image with the same shape as the image sample I provided.\n",
        "'''\n",
        "\n",
        "import numpy as np\n",
        "import matplotlib.pyplot as plt\n",
        "\n",
        "# Define image size\n",
        "width, height = 640, 451\n",
        "num_lines = 50\n",
        "colors = [(1, 0, 0), (0, 0, 1), (0.6, 0.3, 0.2)]  # Red, Blue, Brown\n",
        "\n",
        "# Calculate line height\n",
        "line_height = height / num_lines\n",
        "\n",
        "# Create figure\n",
        "fig, ax = plt.subplots(figsize=(width / 100, height / 100), dpi=100)\n",
        "ax.set_xlim(0, width)\n",
        "ax.set_ylim(0, height)\n",
        "ax.set_xticks([])\n",
        "ax.set_yticks([])\n",
        "ax.axis(\"off\")\n",
        "\n",
        "# Draw horizontal stripes\n",
        "for i in range(num_lines):\n",
        "    color = colors[i % 3]\n",
        "    ax.add_patch(plt.Rectangle((0, i * line_height), width, line_height, color=color))\n",
        "\n",
        "# Draw central white circle\n",
        "circle_radius = 60\n",
        "circle_x, circle_y = width / 2, height / 2\n",
        "circle = plt.Circle((circle_x, circle_y), circle_radius, color='white', zorder=2)\n",
        "ax.add_patch(circle)\n",
        "\n",
        "# Overlay three blue lines on top of the white circle\n",
        "for i in range(num_lines):\n",
        "    if i % 3 == 1:  # Blue lines only\n",
        "        y_position = i * line_height + line_height / 2\n",
        "        if circle_y - circle_radius <= y_position <= circle_y + circle_radius:\n",
        "            ax.add_patch(plt.Rectangle((0, i * line_height), width, line_height, color=colors[1], zorder=3))\n",
        "\n",
        "# Show the image\n",
        "plt.show()\n",
        "\n"
      ]
    },
    {
      "cell_type": "markdown",
      "metadata": {
        "id": "4OZE8VXC0jt1"
      },
      "source": [
        "Quick code to render what you drew."
      ]
    },
    {
      "cell_type": "code",
      "execution_count": null,
      "metadata": {
        "colab": {
          "base_uri": "https://localhost:8080/",
          "height": 384
        },
        "id": "p44RQj1P0jt1",
        "outputId": "cadb5828-1d4a-436d-acd0-636f066a6e0f"
      },
      "outputs": [
        {
          "output_type": "display_data",
          "data": {
            "text/plain": [
              "<Figure size 640x451 with 1 Axes>"
            ],
            "image/png": "[encoded data removed]"
          },
          "metadata": {}
        }
      ],
      "source": [
        "import numpy as np\n",
        "import matplotlib.pyplot as plt\n",
        "\n",
        "# Define image size\n",
        "width, height = 640, 451\n",
        "num_lines = 50\n",
        "colors = [(1, 0, 0), (0, 0, 1), (0.6, 0.3, 0.2)]  # Red, Blue, Brown\n",
        "\n",
        "# Calculate line height\n",
        "line_height = height / num_lines\n",
        "\n",
        "# Create figure\n",
        "fig, ax = plt.subplots(figsize=(width / 100, height / 100), dpi=100)\n",
        "ax.set_xlim(0, width)\n",
        "ax.set_ylim(0, height)\n",
        "ax.set_xticks([])\n",
        "ax.set_yticks([])\n",
        "ax.axis(\"off\")\n",
        "\n",
        "# Draw horizontal stripes\n",
        "for i in range(num_lines):\n",
        "    color = colors[i % 3]\n",
        "    ax.add_patch(plt.Rectangle((0, i * line_height), width, line_height, color=color))\n",
        "\n",
        "# Draw central white circle\n",
        "circle_radius = 60\n",
        "circle_x, circle_y = width / 2, height / 2\n",
        "circle = plt.Circle((circle_x, circle_y), circle_radius, color='white', zorder=2)\n",
        "ax.add_patch(circle)\n",
        "\n",
        "# Overlay three blue lines on top of the white circle\n",
        "for i in range(num_lines):\n",
        "    if i % 3 == 1:  # Blue lines only\n",
        "        y_position = i * line_height + line_height / 2\n",
        "        if circle_y - circle_radius <= y_position <= circle_y + circle_radius:\n",
        "            ax.add_patch(plt.Rectangle((0, i * line_height), width, line_height, color=colors[1], zorder=3))\n",
        "\n",
        "# Show the image\n",
        "plt.show()\n",
        "\n"
      ]
    },
    {
      "cell_type": "code",
      "execution_count": 24,
      "metadata": {
        "colab": {
          "base_uri": "https://localhost:8080/",
          "height": 176
        },
        "id": "3SFdhnZZ0jt1",
        "outputId": "df106081-f596-436a-e8a8-d32d770a677d"
      },
      "outputs": [
        {
          "output_type": "error",
          "ename": "NameError",
          "evalue": "name 'key' is not defined",
          "traceback": [
            "\u001b[0;31m---------------------------------------------------------------------------\u001b[0m",
            "\u001b[0;31mNameError\u001b[0m                                 Traceback (most recent call last)",
            "\u001b[0;32m<ipython-input-24-b63b1343c326>\u001b[0m in \u001b[0;36m<cell line: 0>\u001b[0;34m()\u001b[0m\n\u001b[1;32m      4\u001b[0m \u001b[0;31m# file='/Users/jheaton/projects/t81_559_deep_learning/assignments/assignment_yourname_t81_559_class2.ipynb'  # Mac/Linux\u001b[0m\u001b[0;34m\u001b[0m\u001b[0;34m\u001b[0m\u001b[0m\n\u001b[1;32m      5\u001b[0m \u001b[0;34m\u001b[0m\u001b[0m\n\u001b[0;32m----> 6\u001b[0;31m \u001b[0msubmit\u001b[0m\u001b[0;34m(\u001b[0m\u001b[0msource_file\u001b[0m\u001b[0;34m=\u001b[0m\u001b[0mfile\u001b[0m\u001b[0;34m,\u001b[0m\u001b[0mdata\u001b[0m\u001b[0;34m=\u001b[0m\u001b[0;34m[\u001b[0m\u001b[0mimage\u001b[0m\u001b[0;34m]\u001b[0m\u001b[0;34m,\u001b[0m\u001b[0mkey\u001b[0m\u001b[0;34m=\u001b[0m\u001b[0mkey\u001b[0m\u001b[0;34m,\u001b[0m\u001b[0mno\u001b[0m\u001b[0;34m=\u001b[0m\u001b[0;36m2\u001b[0m\u001b[0;34m,\u001b[0m  \u001b[0mcourse\u001b[0m\u001b[0;34m=\u001b[0m\u001b[0;34m't81-559'\u001b[0m\u001b[0;34m)\u001b[0m\u001b[0;34m\u001b[0m\u001b[0;34m\u001b[0m\u001b[0m\n\u001b[0m",
            "\u001b[0;31mNameError\u001b[0m: name 'key' is not defined"
          ]
        }
      ],
      "source": [
        "# You must identify your source file.  (modify for your local setup)\n",
        "file=\"/content/drive/MyDrive/Colab Notebooks/assignment_PeiwenZeng_t81_559_class2.ipynb\"  # Google CoLab\n",
        "# file='C:\\\\Users\\\\jeffh\\\\projects\\\\t81_559_deep_learning\\\\assignments\\\\assignment_yourname_t81_559_class2.ipynb'  # Windows\n",
        "# file='/Users/jheaton/projects/t81_559_deep_learning/assignments/assignment_yourname_t81_559_class2.ipynb'  # Mac/Linux\n",
        "\n",
        "submit(source_file=file,data=[image],key=key,no=2,  course='t81-559')"
      ]
    }
  ],
  "metadata": {
    "anaconda-cloud": {},
    "colab": {
      "provenance": [],
      "include_colab_link": true
    },
    "kernelspec": {
      "display_name": "Python 3 (ipykernel)",
      "language": "python",
      "name": "python3"
    },
    "language_info": {
      "codemirror_mode": {
        "name": "ipython",
        "version": 3
      },
      "file_extension": ".py",
      "mimetype": "text/x-python",
      "name": "python",
      "nbconvert_exporter": "python",
      "pygments_lexer": "ipython3",
      "version": "3.12.6"
    }
  },
  "nbformat": 4,
  "nbformat_minor": 0
}